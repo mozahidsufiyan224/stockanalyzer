{
  "cells": [
    {
      "cell_type": "markdown",
      "metadata": {
        "id": "_gtJR0wApSGN"
      },
      "source": [
        "# 📰 News Sentiment Analyzer\n",
        "\n",
        "Analyze financial news sentiment and extract future-looking insights using rule-based methods.\n",
        "\n",
        "[Deep Charts YouTube Channel](https://www.youtube.com/@DeepCharts)"
      ]
    },
    {
      "cell_type": "markdown",
      "metadata": {
        "id": "A9vv3iBxpSGO"
      },
      "source": [
        "## Installation and Setup"
      ]
    },
    {
      "cell_type": "code",
      "execution_count": 36,
      "metadata": {
        "id": "r9PlWClCpSGP"
      },
      "outputs": [],
      "source": [
        "# Install required packages\n",
        "# !pip install -q pandas gnews ipywidgets plotly textblob vaderSentiment"
      ]
    },
    {
      "cell_type": "code",
      "execution_count": 37,
      "metadata": {
        "id": "YeqRxvj1pSGP"
      },
      "outputs": [],
      "source": [
        "# Import required libraries\n",
        "import pandas as pd\n",
        "from gnews import GNews\n",
        "import ipywidgets as widgets\n",
        "from IPython.display import display, clear_output\n",
        "import plotly.express as px\n",
        "from textblob import TextBlob\n",
        "from vaderSentiment.vaderSentiment import SentimentIntensityAnalyzer\n",
        "import re\n",
        "from datetime import datetime, timedelta"
      ]
    },
    {
      "cell_type": "markdown",
      "metadata": {
        "id": "CyL-ocaUpSGP"
      },
      "source": [
        "## Create User Interface"
      ]
    },
    {
      "cell_type": "code",
      "execution_count": 38,
      "metadata": {
        "colab": {
          "base_uri": "https://localhost:8080/",
          "height": 163,
          "referenced_widgets": [
            "d217875e2cbd44a6aab7a3712ae4f65e",
            "78f46f3ec62e4ac6afa79f42ca518e52",
            "9643b9e671d24b1f89144cd654a4335d",
            "23739853046645e198ce7c1bee654a41",
            "4140b2ce76054bd4b61808ad4b7c007f",
            "362bd4bd57d947e7849b26ee91b4a109",
            "529f4b5fb4ef4e80853ace0cf0233dd4",
            "013796fb693440c793b5627d5c6557f0",
            "6c786ae3bba8484ba6383e8e133640d2"
          ]
        },
        "id": "IEqNjbXgpSGP",
        "outputId": "37fe3326-b222-4e27-819a-8eb7f616aff7"
      },
      "outputs": [
        {
          "output_type": "stream",
          "name": "stdout",
          "text": [
            "News Sentiment Analyzer Configuration\n"
          ]
        },
        {
          "output_type": "display_data",
          "data": {
            "text/plain": [
              "Text(value='UOGU.L', description='Ticker:', placeholder='Enter stock ticker')"
            ],
            "application/vnd.jupyter.widget-view+json": {
              "version_major": 2,
              "version_minor": 0,
              "model_id": "d217875e2cbd44a6aab7a3712ae4f65e"
            }
          },
          "metadata": {}
        },
        {
          "output_type": "display_data",
          "data": {
            "text/plain": [
              "IntSlider(value=11, continuous_update=False, description='Articles:', max=20, min=1)"
            ],
            "application/vnd.jupyter.widget-view+json": {
              "version_major": 2,
              "version_minor": 0,
              "model_id": "23739853046645e198ce7c1bee654a41"
            }
          },
          "metadata": {}
        },
        {
          "output_type": "display_data",
          "data": {
            "text/plain": [
              "Button(button_style='primary', description='Analyze News', style=ButtonStyle(), tooltip='Click to analyze news…"
            ],
            "application/vnd.jupyter.widget-view+json": {
              "version_major": 2,
              "version_minor": 0,
              "model_id": "529f4b5fb4ef4e80853ace0cf0233dd4"
            }
          },
          "metadata": {}
        },
        {
          "output_type": "stream",
          "name": "stdout",
          "text": [
            "Fetching 11 news articles about UOGU.L...\n",
            "No news articles found for this ticker\n"
          ]
        }
      ],
      "source": [
        "# Create widgets for user input\n",
        "ticker_input = widgets.Text(\n",
        "    value='AAPL',\n",
        "    placeholder='Enter stock ticker',\n",
        "    description='Ticker:',\n",
        "    disabled=False\n",
        ")\n",
        "\n",
        "num_articles_slider = widgets.IntSlider(\n",
        "    value=6,\n",
        "    min=1,\n",
        "    max=20,\n",
        "    step=1,\n",
        "    description='Articles:',\n",
        "    disabled=False,\n",
        "    continuous_update=False,\n",
        "    orientation='horizontal',\n",
        "    readout=True,\n",
        "    readout_format='d'\n",
        ")\n",
        "\n",
        "analyze_button = widgets.Button(\n",
        "    description='Analyze News',\n",
        "    disabled=False,\n",
        "    button_style='primary',\n",
        "    tooltip='Click to analyze news'\n",
        ")\n",
        "\n",
        "# Display the input widgets\n",
        "print(\"News Sentiment Analyzer Configuration\")\n",
        "display(ticker_input)\n",
        "display(num_articles_slider)\n",
        "display(analyze_button)"
      ]
    },
    {
      "cell_type": "markdown",
      "metadata": {
        "id": "ORkaj2a2pSGQ"
      },
      "source": [
        "## Sentiment Analysis Functions"
      ]
    },
    {
      "cell_type": "code",
      "execution_count": 39,
      "metadata": {
        "id": "fFKl1u-ZpSGQ"
      },
      "outputs": [],
      "source": [
        "# Initialize sentiment analyzer\n",
        "vader_analyzer = SentimentIntensityAnalyzer()\n",
        "\n",
        "# Keywords for future-looking analysis\n",
        "FUTURE_KEYWORDS = [\n",
        "    'forecast', 'outlook', 'predict', 'expect', 'project', 'estimate',\n",
        "    'will', 'going to', 'plan', 'target', 'guidance', 'future',\n",
        "    'next quarter', 'next year', 'upcoming', 'ahead', 'potential',\n",
        "    'growth', 'expansion', 'acquisition', 'merger', 'dividend', 'buyback'\n",
        "]\n",
        "\n",
        "# Positive and negative keywords for sentiment analysis\n",
        "POSITIVE_KEYWORDS = [\n",
        "    'profit', 'gain', 'growth', 'increase', 'rise', 'surge', 'jump',\n",
        "    'beat', 'exceed', 'outperform', 'success', 'win', 'positive',\n",
        "    'strong', 'robust', 'optimistic', 'bullish', 'upgrade', 'buy'\n",
        "]\n",
        "\n",
        "NEGATIVE_KEYWORDS = [\n",
        "    'loss', 'decline', 'drop', 'fall', 'plunge', 'slump', 'miss',\n",
        "    'disappoint', 'underperform', 'failure', 'negative', 'weak',\n",
        "    'concern', 'risk', 'warn', 'cut', 'downgrade', 'sell', 'bearish'\n",
        "]\n",
        "\n",
        "def analyze_sentiment_textblob(text):\n",
        "    \"\"\"Analyze sentiment using TextBlob\"\"\"\n",
        "    analysis = TextBlob(text)\n",
        "    polarity = analysis.sentiment.polarity\n",
        "\n",
        "    if polarity > 0.1:\n",
        "        return 'positive'\n",
        "    elif polarity < -0.1:\n",
        "        return 'negative'\n",
        "    else:\n",
        "        return 'neutral'\n",
        "\n",
        "def analyze_sentiment_vader(text):\n",
        "    \"\"\"Analyze sentiment using VADER\"\"\"\n",
        "    scores = vader_analyzer.polarity_scores(text)\n",
        "\n",
        "    if scores['compound'] >= 0.05:\n",
        "        return 'positive'\n",
        "    elif scores['compound'] <= -0.05:\n",
        "        return 'negative'\n",
        "    else:\n",
        "        return 'neutral'\n",
        "\n",
        "def analyze_sentiment_keywords(text):\n",
        "    \"\"\"Analyze sentiment based on keyword matching\"\"\"\n",
        "    text_lower = text.lower()\n",
        "\n",
        "    positive_count = sum(1 for keyword in POSITIVE_KEYWORDS if keyword in text_lower)\n",
        "    negative_count = sum(1 for keyword in NEGATIVE_KEYWORDS if keyword in text_lower)\n",
        "\n",
        "    if positive_count > negative_count:\n",
        "        return 'positive'\n",
        "    elif negative_count > positive_count:\n",
        "        return 'negative'\n",
        "    else:\n",
        "        return 'neutral'\n",
        "\n",
        "def is_future_looking(text):\n",
        "    \"\"\"Determine if text contains future-looking statements\"\"\"\n",
        "    text_lower = text.lower()\n",
        "\n",
        "    # Check for future keywords\n",
        "    future_keyword_count = sum(1 for keyword in FUTURE_KEYWORDS if keyword in text_lower)\n",
        "\n",
        "    # Check for financial forward-looking phrases\n",
        "    future_phrases = [\n",
        "        r'q[1-4]\\s*\\d{4}',  # Q1 2023, Q2 2024, etc.\n",
        "        r'\\d{4}\\s*outlook',\n",
        "        r'forecast\\s*for\\s*\\d{4}',\n",
        "        r'next\\s*(year|quarter|month)',\n",
        "        r'expected\\s*to',\n",
        "        r'projected\\s*to',\n",
        "        r'estimated\\s*to'\n",
        "    ]\n",
        "\n",
        "    future_phrase_count = sum(1 for phrase in future_phrases if re.search(phrase, text_lower))\n",
        "\n",
        "    return (future_keyword_count + future_phrase_count) > 0\n",
        "\n",
        "def analyze_sentiment_combined(text):\n",
        "    \"\"\"Combine multiple sentiment analysis methods\"\"\"\n",
        "    methods = [\n",
        "        analyze_sentiment_textblob(text),\n",
        "        analyze_sentiment_vader(text),\n",
        "        analyze_sentiment_keywords(text)\n",
        "    ]\n",
        "\n",
        "    # Return the most common sentiment\n",
        "    if methods.count('positive') >= 2:\n",
        "        return 'positive'\n",
        "    elif methods.count('negative') >= 2:\n",
        "        return 'negative'\n",
        "    else:\n",
        "        return 'neutral'"
      ]
    },
    {
      "cell_type": "markdown",
      "metadata": {
        "id": "SCTaQPTSpSGQ"
      },
      "source": [
        "## Core Functions"
      ]
    },
    {
      "cell_type": "code",
      "execution_count": 40,
      "metadata": {
        "id": "0S3gy7SopSGQ"
      },
      "outputs": [],
      "source": [
        "# Function to fetch news\n",
        "def fetch_news(ticker, num_articles):\n",
        "    # Initialize GNews client\n",
        "    google_news = GNews()\n",
        "    google_news.period = '7d'  # Last 7 days\n",
        "    google_news.max_results = num_articles\n",
        "\n",
        "    print(f\"Fetching {num_articles} news articles about {ticker}...\")\n",
        "\n",
        "    try:\n",
        "        # Fetch news articles\n",
        "        news = google_news.get_news(f\"{ticker} stock\")\n",
        "\n",
        "        if not news:\n",
        "            print(\"No news articles found for this ticker\")\n",
        "            return None\n",
        "\n",
        "        # Extract news data\n",
        "        news_data = []\n",
        "        for article in news[:num_articles]:\n",
        "            news_data.append({\n",
        "                'title': article.get('title', ''),\n",
        "                'description': article.get('description', ''),\n",
        "                'published_date': article.get('published date', ''),\n",
        "                'publisher': article.get('publisher', {}).get('title', '')\n",
        "            })\n",
        "\n",
        "        # Display raw news titles\n",
        "        print(\"\\nRaw News Headlines:\")\n",
        "        for i, article in enumerate(news_data, 1):\n",
        "            print(f\"{i}. {article['title']}\")\n",
        "\n",
        "        return news_data\n",
        "\n",
        "    except Exception as e:\n",
        "        print(f\"Error fetching news: {str(e)}\")\n",
        "        return None"
      ]
    },
    {
      "cell_type": "code",
      "execution_count": 41,
      "metadata": {
        "id": "V8Kje-YEpSGQ"
      },
      "outputs": [],
      "source": [
        "# Analysis function\n",
        "def perform_sentiment_analysis(news_data):\n",
        "    results = []\n",
        "\n",
        "    print(f\"\\nAnalyzing {len(news_data)} articles...\")\n",
        "\n",
        "    for i, article in enumerate(news_data):\n",
        "        print(f\"Analyzing article {i + 1} of {len(news_data)}...\")\n",
        "\n",
        "        try:\n",
        "            # Combine title and description for analysis\n",
        "            text = f\"{article['title']}. {article['description']}\"\n",
        "\n",
        "            # Analyze sentiment\n",
        "            sentiment = analyze_sentiment_combined(text)\n",
        "\n",
        "            # Check if future-looking\n",
        "            future_looking = is_future_looking(text)\n",
        "\n",
        "            # Calculate confidence score\n",
        "            vader_score = vader_analyzer.polarity_scores(text)['compound']\n",
        "            textblob_score = TextBlob(text).sentiment.polarity\n",
        "            confidence = (abs(vader_score) + abs(textblob_score)) / 2\n",
        "\n",
        "            # Store results\n",
        "            results.append({\n",
        "                'Title': article['title'],\n",
        "                'Publisher': article['publisher'],\n",
        "                'Date': article['published_date'],\n",
        "                'Sentiment': sentiment,\n",
        "                'Future Looking': future_looking,\n",
        "                'Confidence': f\"{confidence:.2f}\"\n",
        "            })\n",
        "\n",
        "        except Exception as e:\n",
        "            print(f\"Failed to analyze article: {article['title']}\\nError: {str(e)}\")\n",
        "            continue\n",
        "\n",
        "    return pd.DataFrame(results)"
      ]
    },
    {
      "cell_type": "code",
      "execution_count": 42,
      "metadata": {
        "id": "_MtbnhacpSGR"
      },
      "outputs": [],
      "source": [
        "# Function to display results\n",
        "def display_results(df):\n",
        "    if df.empty:\n",
        "        print(\"No valid analysis results were returned\")\n",
        "        return\n",
        "\n",
        "    print(\"\\nAnalysis Results:\")\n",
        "\n",
        "    # Show summary metrics\n",
        "    positive_count = len(df[df['Sentiment'] == 'positive'])\n",
        "    negative_count = len(df[df['Sentiment'] == 'negative'])\n",
        "    neutral_count = len(df[df['Sentiment'] == 'neutral'])\n",
        "    future_count = len(df[df['Future Looking'] == True])\n",
        "    total_count = len(df)\n",
        "\n",
        "    print(f\"Positive Sentiment: {positive_count}/{total_count}\")\n",
        "    print(f\"Negative Sentiment: {negative_count}/{total_count}\")\n",
        "    print(f\"Neutral Sentiment: {neutral_count}/{total_count}\")\n",
        "    print(f\"Future-Looking Insights: {future_count}/{total_count}\")\n",
        "\n",
        "    # Calculate overall sentiment score\n",
        "    sentiment_score = (positive_count - negative_count) / total_count\n",
        "    print(f\"Overall Sentiment Score: {sentiment_score:.2f}\")\n",
        "\n",
        "    # Show full results table\n",
        "    display(df)\n",
        "\n",
        "    # Create visualizations\n",
        "    # Sentiment Distribution\n",
        "    sentiment_counts = df['Sentiment'].value_counts()\n",
        "    fig1 = px.pie(values=sentiment_counts.values, names=sentiment_counts.index,\n",
        "                 title=\"Sentiment Distribution\")\n",
        "\n",
        "    # Future-Looking Insights\n",
        "    future_counts = df['Future Looking'].value_counts()\n",
        "    fig2 = px.pie(values=future_counts.values, names=[str(val) for val in future_counts.index],\n",
        "                 title=\"Future-Looking Insights\")\n",
        "\n",
        "    # Sentiment by Publisher\n",
        "    if len(df['Publisher'].unique()) > 1:\n",
        "        publisher_sentiment = df.groupby(['Publisher', 'Sentiment']).size().unstack(fill_value=0)\n",
        "        fig3 = px.bar(publisher_sentiment, title=\"Sentiment by Publisher\",\n",
        "                     labels={'value': 'Count', 'Publisher': 'News Source'})\n",
        "    else:\n",
        "        fig3 = None\n",
        "\n",
        "    # Display plots\n",
        "    fig1.show()\n",
        "    fig2.show()\n",
        "    if fig3:\n",
        "        fig3.show()"
      ]
    },
    {
      "cell_type": "markdown",
      "metadata": {
        "id": "D5JxqJntpSGR"
      },
      "source": [
        "## Event Handling"
      ]
    },
    {
      "cell_type": "code",
      "execution_count": 43,
      "metadata": {
        "id": "EVbGvKaUpSGR"
      },
      "outputs": [],
      "source": [
        "# Event handler for the analyze button\n",
        "def on_analyze_button_clicked(b):\n",
        "    # Clear previous output\n",
        "    clear_output(wait=True)\n",
        "\n",
        "    # Redisplay the input widgets\n",
        "    print(\"News Sentiment Analyzer Configuration\")\n",
        "    display(ticker_input)\n",
        "    display(num_articles_slider)\n",
        "    display(analyze_button)\n",
        "\n",
        "    # Get values from widgets\n",
        "    ticker = ticker_input.value.upper()\n",
        "    num_articles = num_articles_slider.value\n",
        "\n",
        "    # Fetch news\n",
        "    news_data = fetch_news(ticker, num_articles)\n",
        "\n",
        "    if news_data:\n",
        "        # Perform analysis\n",
        "        df = perform_sentiment_analysis(news_data)\n",
        "\n",
        "        if not df.empty:\n",
        "            # Display results\n",
        "            display_results(df)\n",
        "        else:\n",
        "            print(\"No valid analysis results were returned\")\n",
        "\n",
        "# Attach the event handler to the button\n",
        "analyze_button.on_click(on_analyze_button_clicked)"
      ]
    },
    {
      "cell_type": "markdown",
      "metadata": {
        "id": "gjKf1eDdpSGR"
      },
      "source": [
        "## Usage Instructions\n",
        "\n",
        "1. Run all cells to initialize the application\n",
        "2. Enter a stock ticker and select the number of articles\n",
        "3. Click the \"Analyze News\" button\n",
        "4. View the results in the output area below the button\n",
        "\n",
        "## How It Works:\n",
        "\n",
        "- **News Fetching**: Uses GNews API to retrieve recent financial news\n",
        "- **Sentiment Analysis**: Combines three methods:\n",
        "  1. TextBlob - Rule-based sentiment analysis\n",
        "  2. VADER - Valence Aware Dictionary and sEntiment Reasoner\n",
        "  3. Keyword matching - Custom financial keywords\n",
        "- **Future-Looking Detection**: Identifies forward-looking statements using financial keywords and patterns\n",
        "- **Visualization**: Creates interactive charts to visualize sentiment distribution\n",
        "\n",
        "This implementation provides a robust, rule-based alternative to LLM-based sentiment analysis."
      ]
    }
  ],
  "metadata": {
    "kernelspec": {
      "display_name": "Python 3",
      "language": "python",
      "name": "python3"
    },
    "language_info": {
      "codemirror_mode": {
        "name": "ipython",
        "version": 3
      },
      "file_extension": ".py",
      "mimetype": "text/x-python",
      "name": "python",
      "nbconvert_exporter": "python",
      "pygments_lexer": "ipython3",
      "version": "3.8.0"
    },
    "colab": {
      "provenance": []
    },
    "widgets": {
      "application/vnd.jupyter.widget-state+json": {
        "d217875e2cbd44a6aab7a3712ae4f65e": {
          "model_module": "@jupyter-widgets/controls",
          "model_name": "TextModel",
          "model_module_version": "1.5.0",
          "state": {
            "_dom_classes": [],
            "_model_module": "@jupyter-widgets/controls",
            "_model_module_version": "1.5.0",
            "_model_name": "TextModel",
            "_view_count": null,
            "_view_module": "@jupyter-widgets/controls",
            "_view_module_version": "1.5.0",
            "_view_name": "TextView",
            "continuous_update": true,
            "description": "Ticker:",
            "description_tooltip": null,
            "disabled": false,
            "layout": "IPY_MODEL_78f46f3ec62e4ac6afa79f42ca518e52",
            "placeholder": "Enter stock ticker",
            "style": "IPY_MODEL_9643b9e671d24b1f89144cd654a4335d",
            "value": "UOGU.L"
          }
        },
        "78f46f3ec62e4ac6afa79f42ca518e52": {
          "model_module": "@jupyter-widgets/base",
          "model_name": "LayoutModel",
          "model_module_version": "1.2.0",
          "state": {
            "_model_module": "@jupyter-widgets/base",
            "_model_module_version": "1.2.0",
            "_model_name": "LayoutModel",
            "_view_count": null,
            "_view_module": "@jupyter-widgets/base",
            "_view_module_version": "1.2.0",
            "_view_name": "LayoutView",
            "align_content": null,
            "align_items": null,
            "align_self": null,
            "border": null,
            "bottom": null,
            "display": null,
            "flex": null,
            "flex_flow": null,
            "grid_area": null,
            "grid_auto_columns": null,
            "grid_auto_flow": null,
            "grid_auto_rows": null,
            "grid_column": null,
            "grid_gap": null,
            "grid_row": null,
            "grid_template_areas": null,
            "grid_template_columns": null,
            "grid_template_rows": null,
            "height": null,
            "justify_content": null,
            "justify_items": null,
            "left": null,
            "margin": null,
            "max_height": null,
            "max_width": null,
            "min_height": null,
            "min_width": null,
            "object_fit": null,
            "object_position": null,
            "order": null,
            "overflow": null,
            "overflow_x": null,
            "overflow_y": null,
            "padding": null,
            "right": null,
            "top": null,
            "visibility": null,
            "width": null
          }
        },
        "9643b9e671d24b1f89144cd654a4335d": {
          "model_module": "@jupyter-widgets/controls",
          "model_name": "DescriptionStyleModel",
          "model_module_version": "1.5.0",
          "state": {
            "_model_module": "@jupyter-widgets/controls",
            "_model_module_version": "1.5.0",
            "_model_name": "DescriptionStyleModel",
            "_view_count": null,
            "_view_module": "@jupyter-widgets/base",
            "_view_module_version": "1.2.0",
            "_view_name": "StyleView",
            "description_width": ""
          }
        },
        "23739853046645e198ce7c1bee654a41": {
          "model_module": "@jupyter-widgets/controls",
          "model_name": "IntSliderModel",
          "model_module_version": "1.5.0",
          "state": {
            "_dom_classes": [],
            "_model_module": "@jupyter-widgets/controls",
            "_model_module_version": "1.5.0",
            "_model_name": "IntSliderModel",
            "_view_count": null,
            "_view_module": "@jupyter-widgets/controls",
            "_view_module_version": "1.5.0",
            "_view_name": "IntSliderView",
            "continuous_update": false,
            "description": "Articles:",
            "description_tooltip": null,
            "disabled": false,
            "layout": "IPY_MODEL_4140b2ce76054bd4b61808ad4b7c007f",
            "max": 20,
            "min": 1,
            "orientation": "horizontal",
            "readout": true,
            "readout_format": "d",
            "step": 1,
            "style": "IPY_MODEL_362bd4bd57d947e7849b26ee91b4a109",
            "value": 11
          }
        },
        "4140b2ce76054bd4b61808ad4b7c007f": {
          "model_module": "@jupyter-widgets/base",
          "model_name": "LayoutModel",
          "model_module_version": "1.2.0",
          "state": {
            "_model_module": "@jupyter-widgets/base",
            "_model_module_version": "1.2.0",
            "_model_name": "LayoutModel",
            "_view_count": null,
            "_view_module": "@jupyter-widgets/base",
            "_view_module_version": "1.2.0",
            "_view_name": "LayoutView",
            "align_content": null,
            "align_items": null,
            "align_self": null,
            "border": null,
            "bottom": null,
            "display": null,
            "flex": null,
            "flex_flow": null,
            "grid_area": null,
            "grid_auto_columns": null,
            "grid_auto_flow": null,
            "grid_auto_rows": null,
            "grid_column": null,
            "grid_gap": null,
            "grid_row": null,
            "grid_template_areas": null,
            "grid_template_columns": null,
            "grid_template_rows": null,
            "height": null,
            "justify_content": null,
            "justify_items": null,
            "left": null,
            "margin": null,
            "max_height": null,
            "max_width": null,
            "min_height": null,
            "min_width": null,
            "object_fit": null,
            "object_position": null,
            "order": null,
            "overflow": null,
            "overflow_x": null,
            "overflow_y": null,
            "padding": null,
            "right": null,
            "top": null,
            "visibility": null,
            "width": null
          }
        },
        "362bd4bd57d947e7849b26ee91b4a109": {
          "model_module": "@jupyter-widgets/controls",
          "model_name": "SliderStyleModel",
          "model_module_version": "1.5.0",
          "state": {
            "_model_module": "@jupyter-widgets/controls",
            "_model_module_version": "1.5.0",
            "_model_name": "SliderStyleModel",
            "_view_count": null,
            "_view_module": "@jupyter-widgets/base",
            "_view_module_version": "1.2.0",
            "_view_name": "StyleView",
            "description_width": "",
            "handle_color": null
          }
        },
        "529f4b5fb4ef4e80853ace0cf0233dd4": {
          "model_module": "@jupyter-widgets/controls",
          "model_name": "ButtonModel",
          "model_module_version": "1.5.0",
          "state": {
            "_dom_classes": [],
            "_model_module": "@jupyter-widgets/controls",
            "_model_module_version": "1.5.0",
            "_model_name": "ButtonModel",
            "_view_count": null,
            "_view_module": "@jupyter-widgets/controls",
            "_view_module_version": "1.5.0",
            "_view_name": "ButtonView",
            "button_style": "primary",
            "description": "Analyze News",
            "disabled": false,
            "icon": "",
            "layout": "IPY_MODEL_013796fb693440c793b5627d5c6557f0",
            "style": "IPY_MODEL_6c786ae3bba8484ba6383e8e133640d2",
            "tooltip": "Click to analyze news"
          }
        },
        "013796fb693440c793b5627d5c6557f0": {
          "model_module": "@jupyter-widgets/base",
          "model_name": "LayoutModel",
          "model_module_version": "1.2.0",
          "state": {
            "_model_module": "@jupyter-widgets/base",
            "_model_module_version": "1.2.0",
            "_model_name": "LayoutModel",
            "_view_count": null,
            "_view_module": "@jupyter-widgets/base",
            "_view_module_version": "1.2.0",
            "_view_name": "LayoutView",
            "align_content": null,
            "align_items": null,
            "align_self": null,
            "border": null,
            "bottom": null,
            "display": null,
            "flex": null,
            "flex_flow": null,
            "grid_area": null,
            "grid_auto_columns": null,
            "grid_auto_flow": null,
            "grid_auto_rows": null,
            "grid_column": null,
            "grid_gap": null,
            "grid_row": null,
            "grid_template_areas": null,
            "grid_template_columns": null,
            "grid_template_rows": null,
            "height": null,
            "justify_content": null,
            "justify_items": null,
            "left": null,
            "margin": null,
            "max_height": null,
            "max_width": null,
            "min_height": null,
            "min_width": null,
            "object_fit": null,
            "object_position": null,
            "order": null,
            "overflow": null,
            "overflow_x": null,
            "overflow_y": null,
            "padding": null,
            "right": null,
            "top": null,
            "visibility": null,
            "width": null
          }
        },
        "6c786ae3bba8484ba6383e8e133640d2": {
          "model_module": "@jupyter-widgets/controls",
          "model_name": "ButtonStyleModel",
          "model_module_version": "1.5.0",
          "state": {
            "_model_module": "@jupyter-widgets/controls",
            "_model_module_version": "1.5.0",
            "_model_name": "ButtonStyleModel",
            "_view_count": null,
            "_view_module": "@jupyter-widgets/base",
            "_view_module_version": "1.2.0",
            "_view_name": "StyleView",
            "button_color": null,
            "font_weight": ""
          }
        }
      }
    }
  },
  "nbformat": 4,
  "nbformat_minor": 0
}